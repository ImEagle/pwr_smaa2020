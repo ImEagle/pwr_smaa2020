{
 "cells": [
  {
   "cell_type": "code",
   "execution_count": 1,
   "outputs": [],
   "source": [
    "import warnings\n",
    "warnings.filterwarnings('ignore')\n"
   ],
   "metadata": {
    "collapsed": false,
    "pycharm": {
     "name": "#%%\n"
    }
   }
  },
  {
   "cell_type": "markdown",
   "metadata": {
    "collapsed": true,
    "pycharm": {
     "name": "#%% md\n"
    }
   },
   "source": [
    "# System Modelling and Analysis - Project\n",
    "## Tappy keystroke data for early Parkinson Disease recognition\n"
   ]
  },
  {
   "cell_type": "markdown",
   "metadata": {
    "pycharm": {
     "name": "#%% md\n"
    }
   },
   "source": [
    "# Data load"
   ]
  },
  {
   "cell_type": "code",
   "execution_count": 2,
   "metadata": {
    "pycharm": {
     "name": "#%%\n"
    }
   },
   "outputs": [],
   "source": [
    "from main import load_data\n",
    "\n",
    "users_df, _, keystroke_df_list = load_data()"
   ]
  },
  {
   "cell_type": "code",
   "execution_count": 3,
   "metadata": {
    "pycharm": {
     "name": "#%%\n"
    }
   },
   "outputs": [
    {
     "name": "stdout",
     "output_type": "stream",
     "text": [
      "Total users count: 227\n",
      "Keystroke records: 2447450\n"
     ]
    }
   ],
   "source": [
    "unique_users_count = len(users_df)\n",
    "keystroke_count = len(keystroke_df_list)\n",
    "\n",
    "\n",
    "print(f\"Total users count: {unique_users_count}\")\n",
    "print(f\"Keystroke records: {keystroke_count}\")\n"
   ]
  },
  {
   "cell_type": "code",
   "execution_count": 4,
   "metadata": {
    "pycharm": {
     "name": "#%%\n"
    }
   },
   "outputs": [],
   "source": [
    "%reload_ext autoreload\n"
   ]
  },
  {
   "cell_type": "markdown",
   "metadata": {},
   "source": [
    "# Data visualization"
   ]
  },
  {
   "cell_type": "markdown",
   "metadata": {
    "pycharm": {
     "name": "#%% md\n"
    }
   },
   "source": [
    "Age distribution (parkinson / no parkinson):"
   ]
  },
  {
   "cell_type": "code",
   "execution_count": 5,
   "metadata": {
    "pycharm": {
     "name": "#%%\n"
    }
   },
   "outputs": [
    {
     "data": {
      "text/plain": "<Figure size 432x288 with 1 Axes>",
      "image/png": "[encoded data removed]"
     },
     "metadata": {
      "needs_background": "light"
     },
     "output_type": "display_data"
    }
   ],
   "source": [
    "from render import render_age\n",
    "render_age(users_df)"
   ]
  },
  {
   "cell_type": "markdown",
   "metadata": {},
   "source": [
    "Gender distribution:"
   ]
  },
  {
   "cell_type": "code",
   "execution_count": 6,
   "metadata": {
    "pycharm": {
     "name": "#%%\n"
    }
   },
   "outputs": [
    {
     "data": {
      "text/plain": "<Figure size 432x288 with 1 Axes>",
      "image/png": "[encoded data removed]"
     },
     "metadata": {
      "needs_background": "light"
     },
     "output_type": "display_data"
    }
   ],
   "source": [
    "from render import render_gender\n",
    "render_gender(users_df)"
   ]
  },
  {
   "cell_type": "markdown",
   "metadata": {},
   "source": [
    "Diagnosis age:"
   ]
  },
  {
   "cell_type": "code",
   "execution_count": 7,
   "metadata": {
    "pycharm": {
     "name": "#%%\n"
    }
   },
   "outputs": [
    {
     "data": {
      "text/plain": "<Figure size 432x288 with 1 Axes>",
      "image/png": "[encoded data removed]"
     },
     "metadata": {
      "needs_background": "light"
     },
     "output_type": "display_data"
    }
   ],
   "source": [
    "from render import render_diagnosis_age\n",
    "render_diagnosis_age(users_df)"
   ]
  },
  {
   "cell_type": "markdown",
   "metadata": {},
   "source": [
    "Parkinson's disease impact on daily life:"
   ]
  },
  {
   "cell_type": "code",
   "execution_count": 8,
   "metadata": {
    "pycharm": {
     "name": "#%%\n"
    }
   },
   "outputs": [
    {
     "data": {
      "text/plain": "<Figure size 432x288 with 1 Axes>",
      "image/png": "[encoded data removed]"
     },
     "metadata": {},
     "output_type": "display_data"
    }
   ],
   "source": [
    "from render import render_impact\n",
    "render_impact(users_df)"
   ]
  },
  {
   "cell_type": "markdown",
   "metadata": {
    "pycharm": {
     "name": "#%% md\n"
    }
   },
   "source": [
    "# Data filtering\n",
    "\n",
    "For further analysis we use only cases with impact in group Severe, Mild and Medium.\n",
    "Patients that under medicament will be also removed from analysis, because in their case the disease was already diagnosed and treatment was started.\n",
    "\n",
    "Based on the article, number of participants with at least 2000 keystrokes was selected for further analysis."
   ]
  },
  {
   "cell_type": "code",
   "execution_count": 9,
   "metadata": {
    "pycharm": {
     "name": "#%%\n"
    }
   },
   "outputs": [
    {
     "name": "stdout",
     "output_type": "stream",
     "text": [
      "Users selected: 54\n"
     ]
    }
   ],
   "source": [
    "impact_select = [\"Severe\", \"Medium\", \"Mild\"]\n",
    "\n",
    "users_filtered_ids = set(\n",
    "    users_df[\n",
    "        (\n",
    "            (users_df['parkinsons']) & (users_df['impact'].isin(impact_select)) | (~users_df['parkinsons'])\n",
    "        )\n",
    "        & (~users_df['levadopa'])\n",
    "    ]['user_id']\n",
    ")\n",
    "\n",
    "keystroke_filtered_size = keystroke_df_list.groupby('user_id').size() >= 2000\n",
    "keystroke_users_ids = set(keystroke_filtered_size.index[keystroke_filtered_size])\n",
    "\n",
    "selected_users_ids = keystroke_users_ids.intersection(users_filtered_ids)\n",
    "\n",
    "\n",
    "selected_users_count = len(selected_users_ids)\n",
    "\n",
    "print(f\"Users selected: {selected_users_count}\")"
   ]
  },
  {
   "cell_type": "code",
   "execution_count": 10,
   "metadata": {
    "pycharm": {
     "name": "#%%\n"
    }
   },
   "outputs": [
    {
     "name": "stdout",
     "output_type": "stream",
     "text": [
      "parkinsons\n",
      "False    27\n",
      "True     27\n",
      "dtype: int64\n"
     ]
    },
    {
     "data": {
      "text/plain": "<Figure size 432x288 with 1 Axes>",
      "image/png": "[encoded data removed]"
     },
     "metadata": {},
     "output_type": "display_data"
    }
   ],
   "source": [
    "users_df_filtered = users_df.query(\"user_id in @selected_users_ids\").groupby('parkinsons').size()\n",
    "print(users_df_filtered)\n",
    "\n",
    "from render import render_parkinson\n",
    "render_parkinson(users_df_filtered.to_frame())"
   ]
  },
  {
   "cell_type": "code",
   "execution_count": 11,
   "metadata": {
    "pycharm": {
     "name": "#%%\n"
    }
   },
   "outputs": [
    {
     "name": "stdout",
     "output_type": "stream",
     "text": [
      "Keystrokes amount: 1563846\n"
     ]
    }
   ],
   "source": [
    "keystroke_df_filtered = keystroke_df_list[keystroke_df_list['user_id'].isin(selected_users_ids)]\n",
    "keystroke_filtered_count = len(keystroke_df_filtered)\n",
    "\n",
    "print(f\"Keystrokes amount: {keystroke_filtered_count}\")"
   ]
  },
  {
   "cell_type": "code",
   "execution_count": 12,
   "metadata": {
    "pycharm": {
     "name": "#%%\n"
    }
   },
   "outputs": [
    {
     "data": {
      "text/plain": "      user_id    date     timestamp hand  hold_time direction  latency_time  \\\n0  WBS5I7VF1G  161101  09:08:38.391    R      250.0        RR         484.4   \n1  WBS5I7VF1G  161101  09:08:38.562    R      109.4        RR         312.5   \n2  WBS5I7VF1G  161101  09:08:39.578    R      109.4        RR         234.4   \n3  WBS5I7VF1G  161101  09:08:39.656    R      187.5        RR         234.4   \n4  WBS5I7VF1G  161101  09:08:39.875    L      187.5        RL         218.8   \n\n   flight_time  \n0        234.4  \n1         62.5  \n2        375.0  \n3        375.0  \n4         31.3  ",
      "text/html": "<div>\n<style scoped>\n    .dataframe tbody tr th:only-of-type {\n        vertical-align: middle;\n    }\n\n    .dataframe tbody tr th {\n        vertical-align: top;\n    }\n\n    .dataframe thead th {\n        text-align: right;\n    }\n</style>\n<table border=\"1\" class=\"dataframe\">\n  <thead>\n    <tr style=\"text-align: right;\">\n      <th></th>\n      <th>user_id</th>\n      <th>date</th>\n      <th>timestamp</th>\n      <th>hand</th>\n      <th>hold_time</th>\n      <th>direction</th>\n      <th>latency_time</th>\n      <th>flight_time</th>\n    </tr>\n  </thead>\n  <tbody>\n    <tr>\n      <th>0</th>\n      <td>WBS5I7VF1G</td>\n      <td>161101</td>\n      <td>09:08:38.391</td>\n      <td>R</td>\n      <td>250.0</td>\n      <td>RR</td>\n      <td>484.4</td>\n      <td>234.4</td>\n    </tr>\n    <tr>\n      <th>1</th>\n      <td>WBS5I7VF1G</td>\n      <td>161101</td>\n      <td>09:08:38.562</td>\n      <td>R</td>\n      <td>109.4</td>\n      <td>RR</td>\n      <td>312.5</td>\n      <td>62.5</td>\n    </tr>\n    <tr>\n      <th>2</th>\n      <td>WBS5I7VF1G</td>\n      <td>161101</td>\n      <td>09:08:39.578</td>\n      <td>R</td>\n      <td>109.4</td>\n      <td>RR</td>\n      <td>234.4</td>\n      <td>375.0</td>\n    </tr>\n    <tr>\n      <th>3</th>\n      <td>WBS5I7VF1G</td>\n      <td>161101</td>\n      <td>09:08:39.656</td>\n      <td>R</td>\n      <td>187.5</td>\n      <td>RR</td>\n      <td>234.4</td>\n      <td>375.0</td>\n    </tr>\n    <tr>\n      <th>4</th>\n      <td>WBS5I7VF1G</td>\n      <td>161101</td>\n      <td>09:08:39.875</td>\n      <td>L</td>\n      <td>187.5</td>\n      <td>RL</td>\n      <td>218.8</td>\n      <td>31.3</td>\n    </tr>\n  </tbody>\n</table>\n</div>"
     },
     "execution_count": 12,
     "metadata": {},
     "output_type": "execute_result"
    }
   ],
   "source": [
    "keystroke_df_filtered.head()"
   ]
  },
  {
   "cell_type": "markdown",
   "metadata": {
    "pycharm": {
     "name": "#%% md\n"
    }
   },
   "source": [
    "# Preparation\n",
    "\n",
    "Values such as mean, standard deviation, skewness and kurtosis were calculated"
   ]
  },
  {
   "cell_type": "code",
   "execution_count": 13,
   "metadata": {
    "pycharm": {
     "name": "#%%\n"
    }
   },
   "outputs": [
    {
     "data": {
      "text/plain": "                       mean        std      skew  kurtosis\nuser_id    hand                                           \n48DZPAJ5NS L     126.378427  21.759433  0.372987  6.147634\n           R     126.405226  20.466488 -0.002474  6.900936\n5ARV4LHEJ0 L      93.431707  24.011274  0.689511  2.806128\n           R      88.428527  23.680331  0.668709  0.853400",
      "text/html": "<div>\n<style scoped>\n    .dataframe tbody tr th:only-of-type {\n        vertical-align: middle;\n    }\n\n    .dataframe tbody tr th {\n        vertical-align: top;\n    }\n\n    .dataframe thead th {\n        text-align: right;\n    }\n</style>\n<table border=\"1\" class=\"dataframe\">\n  <thead>\n    <tr style=\"text-align: right;\">\n      <th></th>\n      <th></th>\n      <th>mean</th>\n      <th>std</th>\n      <th>skew</th>\n      <th>kurtosis</th>\n    </tr>\n    <tr>\n      <th>user_id</th>\n      <th>hand</th>\n      <th></th>\n      <th></th>\n      <th></th>\n      <th></th>\n    </tr>\n  </thead>\n  <tbody>\n    <tr>\n      <th rowspan=\"2\" valign=\"top\">48DZPAJ5NS</th>\n      <th>L</th>\n      <td>126.378427</td>\n      <td>21.759433</td>\n      <td>0.372987</td>\n      <td>6.147634</td>\n    </tr>\n    <tr>\n      <th>R</th>\n      <td>126.405226</td>\n      <td>20.466488</td>\n      <td>-0.002474</td>\n      <td>6.900936</td>\n    </tr>\n    <tr>\n      <th rowspan=\"2\" valign=\"top\">5ARV4LHEJ0</th>\n      <th>L</th>\n      <td>93.431707</td>\n      <td>24.011274</td>\n      <td>0.689511</td>\n      <td>2.806128</td>\n    </tr>\n    <tr>\n      <th>R</th>\n      <td>88.428527</td>\n      <td>23.680331</td>\n      <td>0.668709</td>\n      <td>0.853400</td>\n    </tr>\n  </tbody>\n</table>\n</div>"
     },
     "execution_count": 13,
     "metadata": {},
     "output_type": "execute_result"
    }
   ],
   "source": [
    "import numpy as np\n",
    "from scipy.stats import skew, kurtosis\n",
    "\n",
    "hold_ds_times =  keystroke_df_filtered[keystroke_df_filtered['hand'] != 'S'].groupby(['user_id', 'hand'])['hold_time'].agg([np.mean, np.std, skew, kurtosis])\n",
    "hold_ds_times.head(4)"
   ]
  },
  {
   "cell_type": "code",
   "execution_count": 14,
   "metadata": {
    "pycharm": {
     "name": "#%%\n"
    }
   },
   "outputs": [
    {
     "data": {
      "text/plain": "                            mean         std      skew  kurtosis\nuser_id    direction                                            \n48DZPAJ5NS LL         301.198111   84.091268  0.365716 -0.642791\n           LR         334.454579   81.665918  0.015188 -0.745299\n           RL         322.209030   89.614327  0.110617 -0.916372\n           RR         332.435753   91.564317 -0.090278 -1.003347\n5ARV4LHEJ0 LL         268.576996  122.763166  1.799560  3.727734\n           LR         257.853434  156.928555  1.619512  1.862982\n           RL         231.264469  134.013156  2.094706  4.446780\n           RR         266.543327  118.495153  2.083482  4.961589",
      "text/html": "<div>\n<style scoped>\n    .dataframe tbody tr th:only-of-type {\n        vertical-align: middle;\n    }\n\n    .dataframe tbody tr th {\n        vertical-align: top;\n    }\n\n    .dataframe thead th {\n        text-align: right;\n    }\n</style>\n<table border=\"1\" class=\"dataframe\">\n  <thead>\n    <tr style=\"text-align: right;\">\n      <th></th>\n      <th></th>\n      <th>mean</th>\n      <th>std</th>\n      <th>skew</th>\n      <th>kurtosis</th>\n    </tr>\n    <tr>\n      <th>user_id</th>\n      <th>direction</th>\n      <th></th>\n      <th></th>\n      <th></th>\n      <th></th>\n    </tr>\n  </thead>\n  <tbody>\n    <tr>\n      <th rowspan=\"4\" valign=\"top\">48DZPAJ5NS</th>\n      <th>LL</th>\n      <td>301.198111</td>\n      <td>84.091268</td>\n      <td>0.365716</td>\n      <td>-0.642791</td>\n    </tr>\n    <tr>\n      <th>LR</th>\n      <td>334.454579</td>\n      <td>81.665918</td>\n      <td>0.015188</td>\n      <td>-0.745299</td>\n    </tr>\n    <tr>\n      <th>RL</th>\n      <td>322.209030</td>\n      <td>89.614327</td>\n      <td>0.110617</td>\n      <td>-0.916372</td>\n    </tr>\n    <tr>\n      <th>RR</th>\n      <td>332.435753</td>\n      <td>91.564317</td>\n      <td>-0.090278</td>\n      <td>-1.003347</td>\n    </tr>\n    <tr>\n      <th rowspan=\"4\" valign=\"top\">5ARV4LHEJ0</th>\n      <th>LL</th>\n      <td>268.576996</td>\n      <td>122.763166</td>\n      <td>1.799560</td>\n      <td>3.727734</td>\n    </tr>\n    <tr>\n      <th>LR</th>\n      <td>257.853434</td>\n      <td>156.928555</td>\n      <td>1.619512</td>\n      <td>1.862982</td>\n    </tr>\n    <tr>\n      <th>RL</th>\n      <td>231.264469</td>\n      <td>134.013156</td>\n      <td>2.094706</td>\n      <td>4.446780</td>\n    </tr>\n    <tr>\n      <th>RR</th>\n      <td>266.543327</td>\n      <td>118.495153</td>\n      <td>2.083482</td>\n      <td>4.961589</td>\n    </tr>\n  </tbody>\n</table>\n</div>"
     },
     "execution_count": 14,
     "metadata": {},
     "output_type": "execute_result"
    }
   ],
   "source": [
    "latency_ds_times = keystroke_df_filtered[np.isin(keystroke_df_filtered['direction'], ['LL', 'LR', 'RL', 'RR'])].groupby(['user_id', 'direction'])['latency_time'].agg([np.mean, np.std, skew, kurtosis])\n",
    "latency_ds_times.head(8)\n"
   ]
  },
  {
   "cell_type": "code",
   "execution_count": 15,
   "metadata": {
    "pycharm": {
     "name": "#%%\n"
    }
   },
   "outputs": [
    {
     "data": {
      "text/plain": "                mean_L      mean_R      std_L      std_R    skew_L     skew_R  \\\nuser_id                                                                         \n48DZPAJ5NS  126.378427  126.405226  21.759433  20.466488  0.372987  -0.002474   \n5ARV4LHEJ0   93.431707   88.428527  24.011274  23.680331  0.689511   0.668709   \n5USOYSDCXB   72.152276   74.706504  26.076473  23.756390  0.141122  -0.265969   \n6LB9FQABZQ  127.508963   99.482716  67.450165  48.432031  0.242160  -0.049696   \n81NEUZEBXI  133.631381  131.893691  38.221705  41.164102  0.453986   0.193605   \n8O9IAIA9L1   86.372264   98.475048  32.266916  49.480572  0.926908  22.776487   \n927ZLCPEJM  104.599705  117.972560  27.366840  26.940411  0.341266  -0.357819   \n95S93AXF86   98.800287   97.001564  47.753210  37.932468 -0.144255   0.115402   \n9RCEHVGNCJ  124.886219  123.508017  66.392988  31.009290 -0.194508  -0.559467   \nBFXNVL50DC  113.083917   96.668409  61.065031  37.325006  0.473061   0.743695   \n\n            kurtosis_L   kurtosis_R  mean_diff  \nuser_id                                         \n48DZPAJ5NS    6.147634     6.900936  -0.026799  \n5ARV4LHEJ0    2.806128     0.853400   5.003180  \n5USOYSDCXB    0.888681     1.671472  -2.554228  \n6LB9FQABZQ   -0.134969    -0.460744  28.026247  \n81NEUZEBXI    1.359421     0.864619   1.737690  \n8O9IAIA9L1    2.932109  1131.441136 -12.102785  \n927ZLCPEJM    2.305457     3.794348 -13.372854  \n95S93AXF86   -0.524908     0.986424   1.798723  \n9RCEHVGNCJ   -0.901520     1.653063   1.378201  \nBFXNVL50DC   -0.465532     2.170181  16.415508  ",
      "text/html": "<div>\n<style scoped>\n    .dataframe tbody tr th:only-of-type {\n        vertical-align: middle;\n    }\n\n    .dataframe tbody tr th {\n        vertical-align: top;\n    }\n\n    .dataframe thead th {\n        text-align: right;\n    }\n</style>\n<table border=\"1\" class=\"dataframe\">\n  <thead>\n    <tr style=\"text-align: right;\">\n      <th></th>\n      <th>mean_L</th>\n      <th>mean_R</th>\n      <th>std_L</th>\n      <th>std_R</th>\n      <th>skew_L</th>\n      <th>skew_R</th>\n      <th>kurtosis_L</th>\n      <th>kurtosis_R</th>\n      <th>mean_diff</th>\n    </tr>\n    <tr>\n      <th>user_id</th>\n      <th></th>\n      <th></th>\n      <th></th>\n      <th></th>\n      <th></th>\n      <th></th>\n      <th></th>\n      <th></th>\n      <th></th>\n    </tr>\n  </thead>\n  <tbody>\n    <tr>\n      <th>48DZPAJ5NS</th>\n      <td>126.378427</td>\n      <td>126.405226</td>\n      <td>21.759433</td>\n      <td>20.466488</td>\n      <td>0.372987</td>\n      <td>-0.002474</td>\n      <td>6.147634</td>\n      <td>6.900936</td>\n      <td>-0.026799</td>\n    </tr>\n    <tr>\n      <th>5ARV4LHEJ0</th>\n      <td>93.431707</td>\n      <td>88.428527</td>\n      <td>24.011274</td>\n      <td>23.680331</td>\n      <td>0.689511</td>\n      <td>0.668709</td>\n      <td>2.806128</td>\n      <td>0.853400</td>\n      <td>5.003180</td>\n    </tr>\n    <tr>\n      <th>5USOYSDCXB</th>\n      <td>72.152276</td>\n      <td>74.706504</td>\n      <td>26.076473</td>\n      <td>23.756390</td>\n      <td>0.141122</td>\n      <td>-0.265969</td>\n      <td>0.888681</td>\n      <td>1.671472</td>\n      <td>-2.554228</td>\n    </tr>\n    <tr>\n      <th>6LB9FQABZQ</th>\n      <td>127.508963</td>\n      <td>99.482716</td>\n      <td>67.450165</td>\n      <td>48.432031</td>\n      <td>0.242160</td>\n      <td>-0.049696</td>\n      <td>-0.134969</td>\n      <td>-0.460744</td>\n      <td>28.026247</td>\n    </tr>\n    <tr>\n      <th>81NEUZEBXI</th>\n      <td>133.631381</td>\n      <td>131.893691</td>\n      <td>38.221705</td>\n      <td>41.164102</td>\n      <td>0.453986</td>\n      <td>0.193605</td>\n      <td>1.359421</td>\n      <td>0.864619</td>\n      <td>1.737690</td>\n    </tr>\n    <tr>\n      <th>8O9IAIA9L1</th>\n      <td>86.372264</td>\n      <td>98.475048</td>\n      <td>32.266916</td>\n      <td>49.480572</td>\n      <td>0.926908</td>\n      <td>22.776487</td>\n      <td>2.932109</td>\n      <td>1131.441136</td>\n      <td>-12.102785</td>\n    </tr>\n    <tr>\n      <th>927ZLCPEJM</th>\n      <td>104.599705</td>\n      <td>117.972560</td>\n      <td>27.366840</td>\n      <td>26.940411</td>\n      <td>0.341266</td>\n      <td>-0.357819</td>\n      <td>2.305457</td>\n      <td>3.794348</td>\n      <td>-13.372854</td>\n    </tr>\n    <tr>\n      <th>95S93AXF86</th>\n      <td>98.800287</td>\n      <td>97.001564</td>\n      <td>47.753210</td>\n      <td>37.932468</td>\n      <td>-0.144255</td>\n      <td>0.115402</td>\n      <td>-0.524908</td>\n      <td>0.986424</td>\n      <td>1.798723</td>\n    </tr>\n    <tr>\n      <th>9RCEHVGNCJ</th>\n      <td>124.886219</td>\n      <td>123.508017</td>\n      <td>66.392988</td>\n      <td>31.009290</td>\n      <td>-0.194508</td>\n      <td>-0.559467</td>\n      <td>-0.901520</td>\n      <td>1.653063</td>\n      <td>1.378201</td>\n    </tr>\n    <tr>\n      <th>BFXNVL50DC</th>\n      <td>113.083917</td>\n      <td>96.668409</td>\n      <td>61.065031</td>\n      <td>37.325006</td>\n      <td>0.473061</td>\n      <td>0.743695</td>\n      <td>-0.465532</td>\n      <td>2.170181</td>\n      <td>16.415508</td>\n    </tr>\n  </tbody>\n</table>\n</div>"
     },
     "execution_count": 15,
     "metadata": {},
     "output_type": "execute_result"
    }
   ],
   "source": [
    "from helpers import make_flat\n",
    "hold_time_flat = make_flat(hold_ds_times)\n",
    "hold_time_flat['mean_diff'] = hold_time_flat['mean_L'] - hold_time_flat['mean_R']\n",
    "\n",
    "hold_time_flat.head(10)"
   ]
  },
  {
   "cell_type": "code",
   "execution_count": 16,
   "metadata": {
    "pycharm": {
     "name": "#%%\n"
    }
   },
   "outputs": [
    {
     "data": {
      "text/plain": "               mean_LL     mean_LR     mean_RL     mean_RR      std_LL  \\\nuser_id                                                                  \n48DZPAJ5NS  301.198111  334.454579  322.209030  332.435753   84.091268   \n5ARV4LHEJ0  268.576996  257.853434  231.264469  266.543327  122.763166   \n5USOYSDCXB  177.817371  139.949558  145.719255  176.761511   85.552371   \n6LB9FQABZQ  189.406681  183.312808  148.136185  188.329619  137.634018   \n81NEUZEBXI  311.996951  311.527273  280.362409  310.574742   91.820492   \n8O9IAIA9L1  217.950469  203.057781  198.515992  215.587387  105.085081   \n927ZLCPEJM  256.362932  243.541632  208.219976  273.082597   94.929267   \n95S93AXF86  202.549831  178.157775  171.992588  208.552174   99.650695   \n9RCEHVGNCJ  288.217878  204.609715  228.220711  293.373540  127.869740   \nBFXNVL50DC  178.174008  178.672982  169.353275  179.328470   76.088401   \n\n                std_LR      std_RL      std_RR   skew_LL   skew_LR   skew_RL  \\\nuser_id                                                                        \n48DZPAJ5NS   81.665918   89.614327   91.564317  0.365716  0.015188  0.110617   \n5ARV4LHEJ0  156.928555  134.013156  118.495153  1.799560  1.619512  2.094706   \n5USOYSDCXB   85.228366   93.083272   83.494383  1.835981  3.126761  2.885283   \n6LB9FQABZQ  146.079655  113.116612  122.775802  1.901941  1.937972  2.712309   \n81NEUZEBXI   98.284819  124.448682  100.573153  0.082658 -0.183491  0.231058   \n8O9IAIA9L1  115.010227   97.135607  113.738475  2.194407  2.198523  2.210455   \n927ZLCPEJM  102.672314   84.724671   87.830684  0.271723  0.644104  1.187708   \n95S93AXF86  122.142773  113.638083  126.835640  2.294134  2.411635  2.602769   \n9RCEHVGNCJ  128.307390  107.263006  124.914302  0.698635  1.857535  1.502823   \nBFXNVL50DC   87.817655   77.824520   81.866910  1.386448  1.428160  1.592137   \n\n             skew_RR  kurtosis_LL  kurtosis_LR  kurtosis_RL  kurtosis_RR  \\\nuser_id                                                                    \n48DZPAJ5NS -0.090278    -0.642791    -0.745299    -0.916372    -1.003347   \n5ARV4LHEJ0  2.083482     3.727734     1.862982     4.446780     4.961589   \n5USOYSDCXB  1.269504     8.081838    14.456914    11.615300     6.435207   \n6LB9FQABZQ  1.941850     3.925494     3.629987     8.834916     4.714036   \n81NEUZEBXI -0.151052    -0.758685    -0.648496    -1.262872    -0.443301   \n8O9IAIA9L1  2.046020     7.687335     5.908881     7.503160     5.253490   \n927ZLCPEJM  0.194789    -0.231916    -0.530549     1.034039     0.252619   \n95S93AXF86  1.911277     7.899722     6.383411     8.329947     4.622506   \n9RCEHVGNCJ  1.120612     0.770035     3.666913     3.544747     1.760749   \nBFXNVL50DC  1.076074     2.267253     1.906864     2.705464     1.253425   \n\n            mean_LL_RR_diff  mean_LR_RL_diff  \nuser_id                                       \n48DZPAJ5NS       -31.237642        12.245549  \n5ARV4LHEJ0         2.033669        26.588964  \n5USOYSDCXB         1.055860        -5.769697  \n6LB9FQABZQ         1.077062        35.176623  \n81NEUZEBXI         1.422209        31.164864  \n8O9IAIA9L1         2.363081         4.541789  \n927ZLCPEJM       -16.719665        35.321656  \n95S93AXF86        -6.002343         6.165188  \n9RCEHVGNCJ        -5.155662       -23.610996  \nBFXNVL50DC        -1.154461         9.319707  ",
      "text/html": "<div>\n<style scoped>\n    .dataframe tbody tr th:only-of-type {\n        vertical-align: middle;\n    }\n\n    .dataframe tbody tr th {\n        vertical-align: top;\n    }\n\n    .dataframe thead th {\n        text-align: right;\n    }\n</style>\n<table border=\"1\" class=\"dataframe\">\n  <thead>\n    <tr style=\"text-align: right;\">\n      <th></th>\n      <th>mean_LL</th>\n      <th>mean_LR</th>\n      <th>mean_RL</th>\n      <th>mean_RR</th>\n      <th>std_LL</th>\n      <th>std_LR</th>\n      <th>std_RL</th>\n      <th>std_RR</th>\n      <th>skew_LL</th>\n      <th>skew_LR</th>\n      <th>skew_RL</th>\n      <th>skew_RR</th>\n      <th>kurtosis_LL</th>\n      <th>kurtosis_LR</th>\n      <th>kurtosis_RL</th>\n      <th>kurtosis_RR</th>\n      <th>mean_LL_RR_diff</th>\n      <th>mean_LR_RL_diff</th>\n    </tr>\n    <tr>\n      <th>user_id</th>\n      <th></th>\n      <th></th>\n      <th></th>\n      <th></th>\n      <th></th>\n      <th></th>\n      <th></th>\n      <th></th>\n      <th></th>\n      <th></th>\n      <th></th>\n      <th></th>\n      <th></th>\n      <th></th>\n      <th></th>\n      <th></th>\n      <th></th>\n      <th></th>\n    </tr>\n  </thead>\n  <tbody>\n    <tr>\n      <th>48DZPAJ5NS</th>\n      <td>301.198111</td>\n      <td>334.454579</td>\n      <td>322.209030</td>\n      <td>332.435753</td>\n      <td>84.091268</td>\n      <td>81.665918</td>\n      <td>89.614327</td>\n      <td>91.564317</td>\n      <td>0.365716</td>\n      <td>0.015188</td>\n      <td>0.110617</td>\n      <td>-0.090278</td>\n      <td>-0.642791</td>\n      <td>-0.745299</td>\n      <td>-0.916372</td>\n      <td>-1.003347</td>\n      <td>-31.237642</td>\n      <td>12.245549</td>\n    </tr>\n    <tr>\n      <th>5ARV4LHEJ0</th>\n      <td>268.576996</td>\n      <td>257.853434</td>\n      <td>231.264469</td>\n      <td>266.543327</td>\n      <td>122.763166</td>\n      <td>156.928555</td>\n      <td>134.013156</td>\n      <td>118.495153</td>\n      <td>1.799560</td>\n      <td>1.619512</td>\n      <td>2.094706</td>\n      <td>2.083482</td>\n      <td>3.727734</td>\n      <td>1.862982</td>\n      <td>4.446780</td>\n      <td>4.961589</td>\n      <td>2.033669</td>\n      <td>26.588964</td>\n    </tr>\n    <tr>\n      <th>5USOYSDCXB</th>\n      <td>177.817371</td>\n      <td>139.949558</td>\n      <td>145.719255</td>\n      <td>176.761511</td>\n      <td>85.552371</td>\n      <td>85.228366</td>\n      <td>93.083272</td>\n      <td>83.494383</td>\n      <td>1.835981</td>\n      <td>3.126761</td>\n      <td>2.885283</td>\n      <td>1.269504</td>\n      <td>8.081838</td>\n      <td>14.456914</td>\n      <td>11.615300</td>\n      <td>6.435207</td>\n      <td>1.055860</td>\n      <td>-5.769697</td>\n    </tr>\n    <tr>\n      <th>6LB9FQABZQ</th>\n      <td>189.406681</td>\n      <td>183.312808</td>\n      <td>148.136185</td>\n      <td>188.329619</td>\n      <td>137.634018</td>\n      <td>146.079655</td>\n      <td>113.116612</td>\n      <td>122.775802</td>\n      <td>1.901941</td>\n      <td>1.937972</td>\n      <td>2.712309</td>\n      <td>1.941850</td>\n      <td>3.925494</td>\n      <td>3.629987</td>\n      <td>8.834916</td>\n      <td>4.714036</td>\n      <td>1.077062</td>\n      <td>35.176623</td>\n    </tr>\n    <tr>\n      <th>81NEUZEBXI</th>\n      <td>311.996951</td>\n      <td>311.527273</td>\n      <td>280.362409</td>\n      <td>310.574742</td>\n      <td>91.820492</td>\n      <td>98.284819</td>\n      <td>124.448682</td>\n      <td>100.573153</td>\n      <td>0.082658</td>\n      <td>-0.183491</td>\n      <td>0.231058</td>\n      <td>-0.151052</td>\n      <td>-0.758685</td>\n      <td>-0.648496</td>\n      <td>-1.262872</td>\n      <td>-0.443301</td>\n      <td>1.422209</td>\n      <td>31.164864</td>\n    </tr>\n    <tr>\n      <th>8O9IAIA9L1</th>\n      <td>217.950469</td>\n      <td>203.057781</td>\n      <td>198.515992</td>\n      <td>215.587387</td>\n      <td>105.085081</td>\n      <td>115.010227</td>\n      <td>97.135607</td>\n      <td>113.738475</td>\n      <td>2.194407</td>\n      <td>2.198523</td>\n      <td>2.210455</td>\n      <td>2.046020</td>\n      <td>7.687335</td>\n      <td>5.908881</td>\n      <td>7.503160</td>\n      <td>5.253490</td>\n      <td>2.363081</td>\n      <td>4.541789</td>\n    </tr>\n    <tr>\n      <th>927ZLCPEJM</th>\n      <td>256.362932</td>\n      <td>243.541632</td>\n      <td>208.219976</td>\n      <td>273.082597</td>\n      <td>94.929267</td>\n      <td>102.672314</td>\n      <td>84.724671</td>\n      <td>87.830684</td>\n      <td>0.271723</td>\n      <td>0.644104</td>\n      <td>1.187708</td>\n      <td>0.194789</td>\n      <td>-0.231916</td>\n      <td>-0.530549</td>\n      <td>1.034039</td>\n      <td>0.252619</td>\n      <td>-16.719665</td>\n      <td>35.321656</td>\n    </tr>\n    <tr>\n      <th>95S93AXF86</th>\n      <td>202.549831</td>\n      <td>178.157775</td>\n      <td>171.992588</td>\n      <td>208.552174</td>\n      <td>99.650695</td>\n      <td>122.142773</td>\n      <td>113.638083</td>\n      <td>126.835640</td>\n      <td>2.294134</td>\n      <td>2.411635</td>\n      <td>2.602769</td>\n      <td>1.911277</td>\n      <td>7.899722</td>\n      <td>6.383411</td>\n      <td>8.329947</td>\n      <td>4.622506</td>\n      <td>-6.002343</td>\n      <td>6.165188</td>\n    </tr>\n    <tr>\n      <th>9RCEHVGNCJ</th>\n      <td>288.217878</td>\n      <td>204.609715</td>\n      <td>228.220711</td>\n      <td>293.373540</td>\n      <td>127.869740</td>\n      <td>128.307390</td>\n      <td>107.263006</td>\n      <td>124.914302</td>\n      <td>0.698635</td>\n      <td>1.857535</td>\n      <td>1.502823</td>\n      <td>1.120612</td>\n      <td>0.770035</td>\n      <td>3.666913</td>\n      <td>3.544747</td>\n      <td>1.760749</td>\n      <td>-5.155662</td>\n      <td>-23.610996</td>\n    </tr>\n    <tr>\n      <th>BFXNVL50DC</th>\n      <td>178.174008</td>\n      <td>178.672982</td>\n      <td>169.353275</td>\n      <td>179.328470</td>\n      <td>76.088401</td>\n      <td>87.817655</td>\n      <td>77.824520</td>\n      <td>81.866910</td>\n      <td>1.386448</td>\n      <td>1.428160</td>\n      <td>1.592137</td>\n      <td>1.076074</td>\n      <td>2.267253</td>\n      <td>1.906864</td>\n      <td>2.705464</td>\n      <td>1.253425</td>\n      <td>-1.154461</td>\n      <td>9.319707</td>\n    </tr>\n  </tbody>\n</table>\n</div>"
     },
     "execution_count": 16,
     "metadata": {},
     "output_type": "execute_result"
    }
   ],
   "source": [
    "from helpers import make_flat\n",
    "latency_flat = make_flat(latency_ds_times)\n",
    "latency_flat['mean_LL_RR_diff'] = latency_flat['mean_LL'] - latency_flat['mean_RR']\n",
    "latency_flat['mean_LR_RL_diff'] = latency_flat['mean_LR'] - latency_flat['mean_RL']\n",
    "latency_flat.head(10)"
   ]
  },
  {
   "cell_type": "code",
   "execution_count": 17,
   "metadata": {
    "pycharm": {
     "name": "#%%\n"
    }
   },
   "outputs": [
    {
     "data": {
      "text/plain": "                mean_L      mean_R      std_L      std_R    skew_L    skew_R  \\\nuser_id                                                                        \n48DZPAJ5NS  126.378427  126.405226  21.759433  20.466488  0.372987 -0.002474   \n5ARV4LHEJ0   93.431707   88.428527  24.011274  23.680331  0.689511  0.668709   \n5USOYSDCXB   72.152276   74.706504  26.076473  23.756390  0.141122 -0.265969   \n6LB9FQABZQ  127.508963   99.482716  67.450165  48.432031  0.242160 -0.049696   \n81NEUZEBXI  133.631381  131.893691  38.221705  41.164102  0.453986  0.193605   \n\n            kurtosis_L  kurtosis_R  mean_diff     mean_LL  ...   skew_LL  \\\nuser_id                                                    ...             \n48DZPAJ5NS    6.147634    6.900936  -0.026799  301.198111  ...  0.365716   \n5ARV4LHEJ0    2.806128    0.853400   5.003180  268.576996  ...  1.799560   \n5USOYSDCXB    0.888681    1.671472  -2.554228  177.817371  ...  1.835981   \n6LB9FQABZQ   -0.134969   -0.460744  28.026247  189.406681  ...  1.901941   \n81NEUZEBXI    1.359421    0.864619   1.737690  311.996951  ...  0.082658   \n\n             skew_LR   skew_RL   skew_RR  kurtosis_LL  kurtosis_LR  \\\nuser_id                                                              \n48DZPAJ5NS  0.015188  0.110617 -0.090278    -0.642791    -0.745299   \n5ARV4LHEJ0  1.619512  2.094706  2.083482     3.727734     1.862982   \n5USOYSDCXB  3.126761  2.885283  1.269504     8.081838    14.456914   \n6LB9FQABZQ  1.937972  2.712309  1.941850     3.925494     3.629987   \n81NEUZEBXI -0.183491  0.231058 -0.151052    -0.758685    -0.648496   \n\n            kurtosis_RL  kurtosis_RR  mean_LL_RR_diff  mean_LR_RL_diff  \nuser_id                                                                 \n48DZPAJ5NS    -0.916372    -1.003347       -31.237642        12.245549  \n5ARV4LHEJ0     4.446780     4.961589         2.033669        26.588964  \n5USOYSDCXB    11.615300     6.435207         1.055860        -5.769697  \n6LB9FQABZQ     8.834916     4.714036         1.077062        35.176623  \n81NEUZEBXI    -1.262872    -0.443301         1.422209        31.164864  \n\n[5 rows x 27 columns]",
      "text/html": "<div>\n<style scoped>\n    .dataframe tbody tr th:only-of-type {\n        vertical-align: middle;\n    }\n\n    .dataframe tbody tr th {\n        vertical-align: top;\n    }\n\n    .dataframe thead th {\n        text-align: right;\n    }\n</style>\n<table border=\"1\" class=\"dataframe\">\n  <thead>\n    <tr style=\"text-align: right;\">\n      <th></th>\n      <th>mean_L</th>\n      <th>mean_R</th>\n      <th>std_L</th>\n      <th>std_R</th>\n      <th>skew_L</th>\n      <th>skew_R</th>\n      <th>kurtosis_L</th>\n      <th>kurtosis_R</th>\n      <th>mean_diff</th>\n      <th>mean_LL</th>\n      <th>...</th>\n      <th>skew_LL</th>\n      <th>skew_LR</th>\n      <th>skew_RL</th>\n      <th>skew_RR</th>\n      <th>kurtosis_LL</th>\n      <th>kurtosis_LR</th>\n      <th>kurtosis_RL</th>\n      <th>kurtosis_RR</th>\n      <th>mean_LL_RR_diff</th>\n      <th>mean_LR_RL_diff</th>\n    </tr>\n    <tr>\n      <th>user_id</th>\n      <th></th>\n      <th></th>\n      <th></th>\n      <th></th>\n      <th></th>\n      <th></th>\n      <th></th>\n      <th></th>\n      <th></th>\n      <th></th>\n      <th></th>\n      <th></th>\n      <th></th>\n      <th></th>\n      <th></th>\n      <th></th>\n      <th></th>\n      <th></th>\n      <th></th>\n      <th></th>\n      <th></th>\n    </tr>\n  </thead>\n  <tbody>\n    <tr>\n      <th>48DZPAJ5NS</th>\n      <td>126.378427</td>\n      <td>126.405226</td>\n      <td>21.759433</td>\n      <td>20.466488</td>\n      <td>0.372987</td>\n      <td>-0.002474</td>\n      <td>6.147634</td>\n      <td>6.900936</td>\n      <td>-0.026799</td>\n      <td>301.198111</td>\n      <td>...</td>\n      <td>0.365716</td>\n      <td>0.015188</td>\n      <td>0.110617</td>\n      <td>-0.090278</td>\n      <td>-0.642791</td>\n      <td>-0.745299</td>\n      <td>-0.916372</td>\n      <td>-1.003347</td>\n      <td>-31.237642</td>\n      <td>12.245549</td>\n    </tr>\n    <tr>\n      <th>5ARV4LHEJ0</th>\n      <td>93.431707</td>\n      <td>88.428527</td>\n      <td>24.011274</td>\n      <td>23.680331</td>\n      <td>0.689511</td>\n      <td>0.668709</td>\n      <td>2.806128</td>\n      <td>0.853400</td>\n      <td>5.003180</td>\n      <td>268.576996</td>\n      <td>...</td>\n      <td>1.799560</td>\n      <td>1.619512</td>\n      <td>2.094706</td>\n      <td>2.083482</td>\n      <td>3.727734</td>\n      <td>1.862982</td>\n      <td>4.446780</td>\n      <td>4.961589</td>\n      <td>2.033669</td>\n      <td>26.588964</td>\n    </tr>\n    <tr>\n      <th>5USOYSDCXB</th>\n      <td>72.152276</td>\n      <td>74.706504</td>\n      <td>26.076473</td>\n      <td>23.756390</td>\n      <td>0.141122</td>\n      <td>-0.265969</td>\n      <td>0.888681</td>\n      <td>1.671472</td>\n      <td>-2.554228</td>\n      <td>177.817371</td>\n      <td>...</td>\n      <td>1.835981</td>\n      <td>3.126761</td>\n      <td>2.885283</td>\n      <td>1.269504</td>\n      <td>8.081838</td>\n      <td>14.456914</td>\n      <td>11.615300</td>\n      <td>6.435207</td>\n      <td>1.055860</td>\n      <td>-5.769697</td>\n    </tr>\n    <tr>\n      <th>6LB9FQABZQ</th>\n      <td>127.508963</td>\n      <td>99.482716</td>\n      <td>67.450165</td>\n      <td>48.432031</td>\n      <td>0.242160</td>\n      <td>-0.049696</td>\n      <td>-0.134969</td>\n      <td>-0.460744</td>\n      <td>28.026247</td>\n      <td>189.406681</td>\n      <td>...</td>\n      <td>1.901941</td>\n      <td>1.937972</td>\n      <td>2.712309</td>\n      <td>1.941850</td>\n      <td>3.925494</td>\n      <td>3.629987</td>\n      <td>8.834916</td>\n      <td>4.714036</td>\n      <td>1.077062</td>\n      <td>35.176623</td>\n    </tr>\n    <tr>\n      <th>81NEUZEBXI</th>\n      <td>133.631381</td>\n      <td>131.893691</td>\n      <td>38.221705</td>\n      <td>41.164102</td>\n      <td>0.453986</td>\n      <td>0.193605</td>\n      <td>1.359421</td>\n      <td>0.864619</td>\n      <td>1.737690</td>\n      <td>311.996951</td>\n      <td>...</td>\n      <td>0.082658</td>\n      <td>-0.183491</td>\n      <td>0.231058</td>\n      <td>-0.151052</td>\n      <td>-0.758685</td>\n      <td>-0.648496</td>\n      <td>-1.262872</td>\n      <td>-0.443301</td>\n      <td>1.422209</td>\n      <td>31.164864</td>\n    </tr>\n  </tbody>\n</table>\n<p>5 rows × 27 columns</p>\n</div>"
     },
     "execution_count": 17,
     "metadata": {},
     "output_type": "execute_result"
    }
   ],
   "source": [
    "import pandas as pd\n",
    "user_full_flat = pd.concat([hold_time_flat, latency_flat], axis=1)\n",
    "\n",
    "user_full_flat.head(5)"
   ]
  },
  {
   "cell_type": "code",
   "execution_count": 18,
   "metadata": {
    "pycharm": {
     "name": "#%%\n"
    }
   },
   "outputs": [
    {
     "data": {
      "text/plain": "                mean_L      mean_R      std_L      std_R    skew_L    skew_R  \\\nuser_id                                                                        \n48DZPAJ5NS  126.378427  126.405226  21.759433  20.466488  0.372987 -0.002474   \n5ARV4LHEJ0   93.431707   88.428527  24.011274  23.680331  0.689511  0.668709   \n5USOYSDCXB   72.152276   74.706504  26.076473  23.756390  0.141122 -0.265969   \n6LB9FQABZQ  127.508963   99.482716  67.450165  48.432031  0.242160 -0.049696   \n81NEUZEBXI  133.631381  131.893691  38.221705  41.164102  0.453986  0.193605   \n\n            kurtosis_L  kurtosis_R  mean_diff     mean_LL  ...   skew_LR  \\\nuser_id                                                    ...             \n48DZPAJ5NS    6.147634    6.900936  -0.026799  301.198111  ...  0.015188   \n5ARV4LHEJ0    2.806128    0.853400   5.003180  268.576996  ...  1.619512   \n5USOYSDCXB    0.888681    1.671472  -2.554228  177.817371  ...  3.126761   \n6LB9FQABZQ   -0.134969   -0.460744  28.026247  189.406681  ...  1.937972   \n81NEUZEBXI    1.359421    0.864619   1.737690  311.996951  ... -0.183491   \n\n             skew_RL   skew_RR  kurtosis_LL  kurtosis_LR  kurtosis_RL  \\\nuser_id                                                                 \n48DZPAJ5NS  0.110617 -0.090278    -0.642791    -0.745299    -0.916372   \n5ARV4LHEJ0  2.094706  2.083482     3.727734     1.862982     4.446780   \n5USOYSDCXB  2.885283  1.269504     8.081838    14.456914    11.615300   \n6LB9FQABZQ  2.712309  1.941850     3.925494     3.629987     8.834916   \n81NEUZEBXI  0.231058 -0.151052    -0.758685    -0.648496    -1.262872   \n\n            kurtosis_RR  mean_LL_RR_diff  mean_LR_RL_diff  parkinsons  \nuser_id                                                                \n48DZPAJ5NS    -1.003347       -31.237642        12.245549        True  \n5ARV4LHEJ0     4.961589         2.033669        26.588964        True  \n5USOYSDCXB     6.435207         1.055860        -5.769697        True  \n6LB9FQABZQ     4.714036         1.077062        35.176623       False  \n81NEUZEBXI    -0.443301         1.422209        31.164864       False  \n\n[5 rows x 28 columns]",
      "text/html": "<div>\n<style scoped>\n    .dataframe tbody tr th:only-of-type {\n        vertical-align: middle;\n    }\n\n    .dataframe tbody tr th {\n        vertical-align: top;\n    }\n\n    .dataframe thead th {\n        text-align: right;\n    }\n</style>\n<table border=\"1\" class=\"dataframe\">\n  <thead>\n    <tr style=\"text-align: right;\">\n      <th></th>\n      <th>mean_L</th>\n      <th>mean_R</th>\n      <th>std_L</th>\n      <th>std_R</th>\n      <th>skew_L</th>\n      <th>skew_R</th>\n      <th>kurtosis_L</th>\n      <th>kurtosis_R</th>\n      <th>mean_diff</th>\n      <th>mean_LL</th>\n      <th>...</th>\n      <th>skew_LR</th>\n      <th>skew_RL</th>\n      <th>skew_RR</th>\n      <th>kurtosis_LL</th>\n      <th>kurtosis_LR</th>\n      <th>kurtosis_RL</th>\n      <th>kurtosis_RR</th>\n      <th>mean_LL_RR_diff</th>\n      <th>mean_LR_RL_diff</th>\n      <th>parkinsons</th>\n    </tr>\n    <tr>\n      <th>user_id</th>\n      <th></th>\n      <th></th>\n      <th></th>\n      <th></th>\n      <th></th>\n      <th></th>\n      <th></th>\n      <th></th>\n      <th></th>\n      <th></th>\n      <th></th>\n      <th></th>\n      <th></th>\n      <th></th>\n      <th></th>\n      <th></th>\n      <th></th>\n      <th></th>\n      <th></th>\n      <th></th>\n      <th></th>\n    </tr>\n  </thead>\n  <tbody>\n    <tr>\n      <th>48DZPAJ5NS</th>\n      <td>126.378427</td>\n      <td>126.405226</td>\n      <td>21.759433</td>\n      <td>20.466488</td>\n      <td>0.372987</td>\n      <td>-0.002474</td>\n      <td>6.147634</td>\n      <td>6.900936</td>\n      <td>-0.026799</td>\n      <td>301.198111</td>\n      <td>...</td>\n      <td>0.015188</td>\n      <td>0.110617</td>\n      <td>-0.090278</td>\n      <td>-0.642791</td>\n      <td>-0.745299</td>\n      <td>-0.916372</td>\n      <td>-1.003347</td>\n      <td>-31.237642</td>\n      <td>12.245549</td>\n      <td>True</td>\n    </tr>\n    <tr>\n      <th>5ARV4LHEJ0</th>\n      <td>93.431707</td>\n      <td>88.428527</td>\n      <td>24.011274</td>\n      <td>23.680331</td>\n      <td>0.689511</td>\n      <td>0.668709</td>\n      <td>2.806128</td>\n      <td>0.853400</td>\n      <td>5.003180</td>\n      <td>268.576996</td>\n      <td>...</td>\n      <td>1.619512</td>\n      <td>2.094706</td>\n      <td>2.083482</td>\n      <td>3.727734</td>\n      <td>1.862982</td>\n      <td>4.446780</td>\n      <td>4.961589</td>\n      <td>2.033669</td>\n      <td>26.588964</td>\n      <td>True</td>\n    </tr>\n    <tr>\n      <th>5USOYSDCXB</th>\n      <td>72.152276</td>\n      <td>74.706504</td>\n      <td>26.076473</td>\n      <td>23.756390</td>\n      <td>0.141122</td>\n      <td>-0.265969</td>\n      <td>0.888681</td>\n      <td>1.671472</td>\n      <td>-2.554228</td>\n      <td>177.817371</td>\n      <td>...</td>\n      <td>3.126761</td>\n      <td>2.885283</td>\n      <td>1.269504</td>\n      <td>8.081838</td>\n      <td>14.456914</td>\n      <td>11.615300</td>\n      <td>6.435207</td>\n      <td>1.055860</td>\n      <td>-5.769697</td>\n      <td>True</td>\n    </tr>\n    <tr>\n      <th>6LB9FQABZQ</th>\n      <td>127.508963</td>\n      <td>99.482716</td>\n      <td>67.450165</td>\n      <td>48.432031</td>\n      <td>0.242160</td>\n      <td>-0.049696</td>\n      <td>-0.134969</td>\n      <td>-0.460744</td>\n      <td>28.026247</td>\n      <td>189.406681</td>\n      <td>...</td>\n      <td>1.937972</td>\n      <td>2.712309</td>\n      <td>1.941850</td>\n      <td>3.925494</td>\n      <td>3.629987</td>\n      <td>8.834916</td>\n      <td>4.714036</td>\n      <td>1.077062</td>\n      <td>35.176623</td>\n      <td>False</td>\n    </tr>\n    <tr>\n      <th>81NEUZEBXI</th>\n      <td>133.631381</td>\n      <td>131.893691</td>\n      <td>38.221705</td>\n      <td>41.164102</td>\n      <td>0.453986</td>\n      <td>0.193605</td>\n      <td>1.359421</td>\n      <td>0.864619</td>\n      <td>1.737690</td>\n      <td>311.996951</td>\n      <td>...</td>\n      <td>-0.183491</td>\n      <td>0.231058</td>\n      <td>-0.151052</td>\n      <td>-0.758685</td>\n      <td>-0.648496</td>\n      <td>-1.262872</td>\n      <td>-0.443301</td>\n      <td>1.422209</td>\n      <td>31.164864</td>\n      <td>False</td>\n    </tr>\n  </tbody>\n</table>\n<p>5 rows × 28 columns</p>\n</div>"
     },
     "execution_count": 18,
     "metadata": {},
     "output_type": "execute_result"
    }
   ],
   "source": [
    "user_full = pd.merge(user_full_flat.reset_index(), users_df[['user_id', 'parkinsons']], on='user_id')\n",
    "user_full.set_index('user_id', inplace=True)\n",
    "user_full.head()"
   ]
  },
  {
   "cell_type": "markdown",
   "metadata": {
    "pycharm": {
     "name": "#%% md\n"
    }
   },
   "source": [
    "# Visualize Calculated data\n"
   ]
  },
  {
   "cell_type": "code",
   "execution_count": 19,
   "metadata": {
    "pycharm": {
     "name": "#%%\n"
    }
   },
   "outputs": [],
   "source": [
    "import umap.umap_ as umap\n",
    "umap_model = umap.UMAP()\n",
    "embed = umap_model.fit_transform(user_full.iloc[:, :-1], user_full.iloc[:, -1])"
   ]
  },
  {
   "cell_type": "code",
   "execution_count": 20,
   "metadata": {
    "pycharm": {
     "name": "#%%\n"
    }
   },
   "outputs": [
    {
     "data": {
      "text/plain": "<matplotlib.collections.PathCollection at 0x7fb161b171f0>"
     },
     "execution_count": 20,
     "metadata": {},
     "output_type": "execute_result"
    },
    {
     "data": {
      "text/plain": "<Figure size 432x288 with 1 Axes>",
      "image/png": "[encoded data removed]"
     },
     "metadata": {
      "needs_background": "light"
     },
     "output_type": "display_data"
    }
   ],
   "source": [
    "import matplotlib.pyplot as plt\n",
    "not_peak = user_full.parkinsons.map(lambda x: not x)\n",
    "plt.scatter(embed[user_full.parkinsons, 0], embed[user_full.parkinsons, 1], color=\"red\")\n",
    "plt.scatter(embed[not_peak, 0], embed[not_peak, 1], color=\"blue\")"
   ]
  },
  {
   "cell_type": "markdown",
   "metadata": {
    "pycharm": {
     "name": "#%% md\n"
    }
   },
   "source": [
    "From the chart above, you can see that the data for people with Parkinson's disease are separate from the control group.\n",
    "On this basis, I conclude that using the SVM models is a good choice."
   ]
  },
  {
   "cell_type": "markdown",
   "source": [
    "# Support Vector Machine (SVM) #1\n"
   ],
   "metadata": {
    "collapsed": false
   }
  },
  {
   "cell_type": "code",
   "execution_count": 21,
   "metadata": {
    "pycharm": {
     "name": "#%%\n"
    }
   },
   "outputs": [],
   "source": [
    "from sklearn.model_selection import cross_validate, StratifiedKFold\n",
    "from sklearn.svm import LinearSVC\n",
    "model = LinearSVC(\n",
    "    multi_class='ovr',\n",
    "    loss='squared_hinge',\n",
    "    max_iter=1000,\n",
    ")\n",
    "\n",
    "train_X = np.concatenate([user_full.iloc[:, :-1], pd.DataFrame(embed)], axis=1)\n",
    "train_y = user_full.iloc[:, -1]\n",
    "\n",
    "scoring = ['accuracy', 'f1', 'roc_auc']\n",
    "scores = cross_validate(\n",
    "    model,\n",
    "    train_X,\n",
    "    train_y,\n",
    "    cv=StratifiedKFold(n_splits=5, random_state=10, shuffle=True),\n",
    "    scoring=scoring,\n",
    "    return_train_score=True,\n",
    ")"
   ]
  },
  {
   "cell_type": "code",
   "execution_count": 22,
   "metadata": {
    "pycharm": {
     "name": "#%%\n"
    }
   },
   "outputs": [
    {
     "data": {
      "text/plain": "   fit_time  score_time  test_accuracy  train_accuracy   test_f1  train_f1  \\\n0  0.002287    0.001783       0.727273        0.813953  0.800000  0.840000   \n1  0.002032    0.001166       1.000000        1.000000  1.000000  1.000000   \n2  0.002138    0.001144       1.000000        1.000000  1.000000  1.000000   \n3  0.001993    0.001148       0.909091        0.976744  0.888889  0.977778   \n4  0.002138    0.001123       1.000000        1.000000  1.000000  1.000000   \n\n   test_roc_auc  train_roc_auc  \n0           1.0       1.000000  \n1           1.0       1.000000  \n2           1.0       1.000000  \n3           1.0       0.952381  \n4           1.0       1.000000  ",
      "text/html": "<div>\n<style scoped>\n    .dataframe tbody tr th:only-of-type {\n        vertical-align: middle;\n    }\n\n    .dataframe tbody tr th {\n        vertical-align: top;\n    }\n\n    .dataframe thead th {\n        text-align: right;\n    }\n</style>\n<table border=\"1\" class=\"dataframe\">\n  <thead>\n    <tr style=\"text-align: right;\">\n      <th></th>\n      <th>fit_time</th>\n      <th>score_time</th>\n      <th>test_accuracy</th>\n      <th>train_accuracy</th>\n      <th>test_f1</th>\n      <th>train_f1</th>\n      <th>test_roc_auc</th>\n      <th>train_roc_auc</th>\n    </tr>\n  </thead>\n  <tbody>\n    <tr>\n      <th>0</th>\n      <td>0.002287</td>\n      <td>0.001783</td>\n      <td>0.727273</td>\n      <td>0.813953</td>\n      <td>0.800000</td>\n      <td>0.840000</td>\n      <td>1.0</td>\n      <td>1.000000</td>\n    </tr>\n    <tr>\n      <th>1</th>\n      <td>0.002032</td>\n      <td>0.001166</td>\n      <td>1.000000</td>\n      <td>1.000000</td>\n      <td>1.000000</td>\n      <td>1.000000</td>\n      <td>1.0</td>\n      <td>1.000000</td>\n    </tr>\n    <tr>\n      <th>2</th>\n      <td>0.002138</td>\n      <td>0.001144</td>\n      <td>1.000000</td>\n      <td>1.000000</td>\n      <td>1.000000</td>\n      <td>1.000000</td>\n      <td>1.0</td>\n      <td>1.000000</td>\n    </tr>\n    <tr>\n      <th>3</th>\n      <td>0.001993</td>\n      <td>0.001148</td>\n      <td>0.909091</td>\n      <td>0.976744</td>\n      <td>0.888889</td>\n      <td>0.977778</td>\n      <td>1.0</td>\n      <td>0.952381</td>\n    </tr>\n    <tr>\n      <th>4</th>\n      <td>0.002138</td>\n      <td>0.001123</td>\n      <td>1.000000</td>\n      <td>1.000000</td>\n      <td>1.000000</td>\n      <td>1.000000</td>\n      <td>1.0</td>\n      <td>1.000000</td>\n    </tr>\n  </tbody>\n</table>\n</div>"
     },
     "execution_count": 22,
     "metadata": {},
     "output_type": "execute_result"
    }
   ],
   "source": [
    "result = pd.DataFrame(scores)\n",
    "result\n"
   ]
  },
  {
   "cell_type": "markdown",
   "source": [
    "# Support Vector Machine (SVM) #2\n"
   ],
   "metadata": {
    "collapsed": false
   }
  },
  {
   "cell_type": "code",
   "execution_count": 23,
   "outputs": [],
   "source": [
    "from sklearn.model_selection import cross_validate, StratifiedKFold\n",
    "from sklearn.svm import LinearSVC\n",
    "model = LinearSVC(\n",
    "    loss='hinge',\n",
    "    multi_class=\"crammer_singer\",\n",
    "    max_iter=200,\n",
    ")\n",
    "\n",
    "train_X = np.concatenate([user_full.iloc[:, :-1], pd.DataFrame(embed)], axis=1)\n",
    "train_y = user_full.iloc[:, -1]\n",
    "\n",
    "scoring = ['accuracy', 'f1', 'roc_auc']\n",
    "scores = cross_validate(\n",
    "    model,\n",
    "    train_X,\n",
    "    train_y,\n",
    "    cv=None,\n",
    "    scoring=scoring,\n",
    "    return_train_score=True,\n",
    ")"
   ],
   "metadata": {
    "collapsed": false,
    "pycharm": {
     "name": "#%%\n"
    }
   }
  },
  {
   "cell_type": "code",
   "execution_count": 24,
   "outputs": [
    {
     "data": {
      "text/plain": "   fit_time  score_time  test_accuracy  train_accuracy   test_f1  train_f1  \\\n0  0.424536    0.001642       0.909091             1.0  0.923077       1.0   \n1  0.496860    0.001583       1.000000             1.0  1.000000       1.0   \n2  0.597418    0.001620       1.000000             1.0  1.000000       1.0   \n3  0.535513    0.001626       0.909091             1.0  0.909091       1.0   \n4  0.570103    0.001605       1.000000             1.0  1.000000       1.0   \n\n   test_roc_auc  train_roc_auc  \n0      0.800000            1.0  \n1      1.000000            1.0  \n2      1.000000            1.0  \n3      0.833333            1.0  \n4      1.000000            1.0  ",
      "text/html": "<div>\n<style scoped>\n    .dataframe tbody tr th:only-of-type {\n        vertical-align: middle;\n    }\n\n    .dataframe tbody tr th {\n        vertical-align: top;\n    }\n\n    .dataframe thead th {\n        text-align: right;\n    }\n</style>\n<table border=\"1\" class=\"dataframe\">\n  <thead>\n    <tr style=\"text-align: right;\">\n      <th></th>\n      <th>fit_time</th>\n      <th>score_time</th>\n      <th>test_accuracy</th>\n      <th>train_accuracy</th>\n      <th>test_f1</th>\n      <th>train_f1</th>\n      <th>test_roc_auc</th>\n      <th>train_roc_auc</th>\n    </tr>\n  </thead>\n  <tbody>\n    <tr>\n      <th>0</th>\n      <td>0.424536</td>\n      <td>0.001642</td>\n      <td>0.909091</td>\n      <td>1.0</td>\n      <td>0.923077</td>\n      <td>1.0</td>\n      <td>0.800000</td>\n      <td>1.0</td>\n    </tr>\n    <tr>\n      <th>1</th>\n      <td>0.496860</td>\n      <td>0.001583</td>\n      <td>1.000000</td>\n      <td>1.0</td>\n      <td>1.000000</td>\n      <td>1.0</td>\n      <td>1.000000</td>\n      <td>1.0</td>\n    </tr>\n    <tr>\n      <th>2</th>\n      <td>0.597418</td>\n      <td>0.001620</td>\n      <td>1.000000</td>\n      <td>1.0</td>\n      <td>1.000000</td>\n      <td>1.0</td>\n      <td>1.000000</td>\n      <td>1.0</td>\n    </tr>\n    <tr>\n      <th>3</th>\n      <td>0.535513</td>\n      <td>0.001626</td>\n      <td>0.909091</td>\n      <td>1.0</td>\n      <td>0.909091</td>\n      <td>1.0</td>\n      <td>0.833333</td>\n      <td>1.0</td>\n    </tr>\n    <tr>\n      <th>4</th>\n      <td>0.570103</td>\n      <td>0.001605</td>\n      <td>1.000000</td>\n      <td>1.0</td>\n      <td>1.000000</td>\n      <td>1.0</td>\n      <td>1.000000</td>\n      <td>1.0</td>\n    </tr>\n  </tbody>\n</table>\n</div>"
     },
     "execution_count": 24,
     "metadata": {},
     "output_type": "execute_result"
    }
   ],
   "source": [
    "result = pd.DataFrame(scores)\n",
    "result\n",
    "\n",
    "\n"
   ],
   "metadata": {
    "collapsed": false,
    "pycharm": {
     "name": "#%%\n"
    }
   }
  },
  {
   "cell_type": "markdown",
   "source": [
    "# Random Forest #1\n"
   ],
   "metadata": {
    "collapsed": false
   }
  },
  {
   "cell_type": "code",
   "execution_count": 25,
   "outputs": [],
   "source": [
    "from sklearn.model_selection import cross_validate, StratifiedKFold\n",
    "from sklearn.ensemble import RandomForestClassifier\n",
    "model = RandomForestClassifier(\n",
    "    n_estimators=100,\n",
    "    criterion=\"gini\",\n",
    ")\n",
    "\n",
    "train_X = np.concatenate([user_full.iloc[:, :-1], pd.DataFrame(embed)], axis=1)\n",
    "train_y = user_full.iloc[:, -1]\n",
    "\n",
    "scoring = ['accuracy', 'f1', 'roc_auc']\n",
    "scores = cross_validate(\n",
    "    model,\n",
    "    train_X,\n",
    "    train_y,\n",
    "    cv=StratifiedKFold(n_splits=5, random_state=1337, shuffle=True),\n",
    "    scoring=scoring,\n",
    "    return_train_score=True\n",
    ")"
   ],
   "metadata": {
    "collapsed": false,
    "pycharm": {
     "name": "#%%\n"
    }
   }
  },
  {
   "cell_type": "code",
   "execution_count": 26,
   "outputs": [
    {
     "data": {
      "text/plain": "   fit_time  score_time  test_accuracy  train_accuracy  test_f1  train_f1  \\\n0  0.056835    0.010102            1.0             1.0      1.0       1.0   \n1  0.057510    0.009912            1.0             1.0      1.0       1.0   \n2  0.056820    0.010127            1.0             1.0      1.0       1.0   \n3  0.056407    0.009885            1.0             1.0      1.0       1.0   \n4  0.056202    0.009896            1.0             1.0      1.0       1.0   \n\n   test_roc_auc  train_roc_auc  \n0           1.0            1.0  \n1           1.0            1.0  \n2           1.0            1.0  \n3           1.0            1.0  \n4           1.0            1.0  ",
      "text/html": "<div>\n<style scoped>\n    .dataframe tbody tr th:only-of-type {\n        vertical-align: middle;\n    }\n\n    .dataframe tbody tr th {\n        vertical-align: top;\n    }\n\n    .dataframe thead th {\n        text-align: right;\n    }\n</style>\n<table border=\"1\" class=\"dataframe\">\n  <thead>\n    <tr style=\"text-align: right;\">\n      <th></th>\n      <th>fit_time</th>\n      <th>score_time</th>\n      <th>test_accuracy</th>\n      <th>train_accuracy</th>\n      <th>test_f1</th>\n      <th>train_f1</th>\n      <th>test_roc_auc</th>\n      <th>train_roc_auc</th>\n    </tr>\n  </thead>\n  <tbody>\n    <tr>\n      <th>0</th>\n      <td>0.056835</td>\n      <td>0.010102</td>\n      <td>1.0</td>\n      <td>1.0</td>\n      <td>1.0</td>\n      <td>1.0</td>\n      <td>1.0</td>\n      <td>1.0</td>\n    </tr>\n    <tr>\n      <th>1</th>\n      <td>0.057510</td>\n      <td>0.009912</td>\n      <td>1.0</td>\n      <td>1.0</td>\n      <td>1.0</td>\n      <td>1.0</td>\n      <td>1.0</td>\n      <td>1.0</td>\n    </tr>\n    <tr>\n      <th>2</th>\n      <td>0.056820</td>\n      <td>0.010127</td>\n      <td>1.0</td>\n      <td>1.0</td>\n      <td>1.0</td>\n      <td>1.0</td>\n      <td>1.0</td>\n      <td>1.0</td>\n    </tr>\n    <tr>\n      <th>3</th>\n      <td>0.056407</td>\n      <td>0.009885</td>\n      <td>1.0</td>\n      <td>1.0</td>\n      <td>1.0</td>\n      <td>1.0</td>\n      <td>1.0</td>\n      <td>1.0</td>\n    </tr>\n    <tr>\n      <th>4</th>\n      <td>0.056202</td>\n      <td>0.009896</td>\n      <td>1.0</td>\n      <td>1.0</td>\n      <td>1.0</td>\n      <td>1.0</td>\n      <td>1.0</td>\n      <td>1.0</td>\n    </tr>\n  </tbody>\n</table>\n</div>"
     },
     "execution_count": 26,
     "metadata": {},
     "output_type": "execute_result"
    }
   ],
   "source": [
    "result = pd.DataFrame(scores)\n",
    "result\n",
    "\n",
    "\n",
    "\n"
   ],
   "metadata": {
    "collapsed": false,
    "pycharm": {
     "name": "#%%\n"
    }
   }
  },
  {
   "cell_type": "markdown",
   "metadata": {},
   "source": [
    "# Random Forest #2\n"
   ]
  },
  {
   "cell_type": "code",
   "execution_count": 27,
   "metadata": {
    "pycharm": {
     "name": "#%%\n"
    }
   },
   "outputs": [],
   "source": [
    "from sklearn.model_selection import cross_validate, StratifiedKFold\n",
    "from sklearn.ensemble import RandomForestClassifier\n",
    "model = RandomForestClassifier(\n",
    "    n_estimators=10,\n",
    "    criterion=\"entropy\",\n",
    ")\n",
    "\n",
    "train_X = np.concatenate([user_full.iloc[:, :-1], pd.DataFrame(embed)], axis=1)\n",
    "train_y = user_full.iloc[:, -1]\n",
    "\n",
    "scoring = ['accuracy', 'f1', 'roc_auc']\n",
    "scores = cross_validate(\n",
    "    model,\n",
    "    train_X,\n",
    "    train_y,\n",
    "    cv=None,\n",
    "    scoring=scoring,\n",
    "    return_train_score=True\n",
    ")"
   ]
  },
  {
   "cell_type": "code",
   "execution_count": 28,
   "metadata": {
    "pycharm": {
     "name": "#%%\n"
    }
   },
   "outputs": [
    {
     "data": {
      "text/plain": "   fit_time  score_time  test_accuracy  train_accuracy   test_f1  train_f1  \\\n0  0.006779    0.002750       1.000000             1.0  1.000000       1.0   \n1  0.006420    0.002528       1.000000             1.0  1.000000       1.0   \n2  0.006261    0.002311       0.909091             1.0  0.888889       1.0   \n3  0.006494    0.002424       1.000000             1.0  1.000000       1.0   \n4  0.006275    0.002472       1.000000             1.0  1.000000       1.0   \n\n   test_roc_auc  train_roc_auc  \n0      1.000000            1.0  \n1      1.000000            1.0  \n2      0.966667            1.0  \n3      1.000000            1.0  \n4      1.000000            1.0  ",
      "text/html": "<div>\n<style scoped>\n    .dataframe tbody tr th:only-of-type {\n        vertical-align: middle;\n    }\n\n    .dataframe tbody tr th {\n        vertical-align: top;\n    }\n\n    .dataframe thead th {\n        text-align: right;\n    }\n</style>\n<table border=\"1\" class=\"dataframe\">\n  <thead>\n    <tr style=\"text-align: right;\">\n      <th></th>\n      <th>fit_time</th>\n      <th>score_time</th>\n      <th>test_accuracy</th>\n      <th>train_accuracy</th>\n      <th>test_f1</th>\n      <th>train_f1</th>\n      <th>test_roc_auc</th>\n      <th>train_roc_auc</th>\n    </tr>\n  </thead>\n  <tbody>\n    <tr>\n      <th>0</th>\n      <td>0.006779</td>\n      <td>0.002750</td>\n      <td>1.000000</td>\n      <td>1.0</td>\n      <td>1.000000</td>\n      <td>1.0</td>\n      <td>1.000000</td>\n      <td>1.0</td>\n    </tr>\n    <tr>\n      <th>1</th>\n      <td>0.006420</td>\n      <td>0.002528</td>\n      <td>1.000000</td>\n      <td>1.0</td>\n      <td>1.000000</td>\n      <td>1.0</td>\n      <td>1.000000</td>\n      <td>1.0</td>\n    </tr>\n    <tr>\n      <th>2</th>\n      <td>0.006261</td>\n      <td>0.002311</td>\n      <td>0.909091</td>\n      <td>1.0</td>\n      <td>0.888889</td>\n      <td>1.0</td>\n      <td>0.966667</td>\n      <td>1.0</td>\n    </tr>\n    <tr>\n      <th>3</th>\n      <td>0.006494</td>\n      <td>0.002424</td>\n      <td>1.000000</td>\n      <td>1.0</td>\n      <td>1.000000</td>\n      <td>1.0</td>\n      <td>1.000000</td>\n      <td>1.0</td>\n    </tr>\n    <tr>\n      <th>4</th>\n      <td>0.006275</td>\n      <td>0.002472</td>\n      <td>1.000000</td>\n      <td>1.0</td>\n      <td>1.000000</td>\n      <td>1.0</td>\n      <td>1.000000</td>\n      <td>1.0</td>\n    </tr>\n  </tbody>\n</table>\n</div>"
     },
     "execution_count": 28,
     "metadata": {},
     "output_type": "execute_result"
    }
   ],
   "source": [
    "result = pd.DataFrame(scores)\n",
    "result\n",
    "\n"
   ]
  }
 ],
 "metadata": {
  "kernelspec": {
   "display_name": "Python 3",
   "language": "python",
   "name": "python3"
  },
  "language_info": {
   "codemirror_mode": {
    "name": "ipython",
    "version": 3
   },
   "file_extension": ".py",
   "mimetype": "text/x-python",
   "name": "python",
   "nbconvert_exporter": "python",
   "pygments_lexer": "ipython3",
   "version": "3.8.5"
  },
  "pycharm": {
   "stem_cell": {
    "cell_type": "raw",
    "source": [
     "%reload_ext autoreload\n"
    ],
    "metadata": {
     "collapsed": false
    }
   }
  }
 },
 "nbformat": 4,
 "nbformat_minor": 1
}